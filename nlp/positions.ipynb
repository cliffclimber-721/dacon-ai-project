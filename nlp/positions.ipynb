{
 "cells": [
  {
   "cell_type": "code",
   "execution_count": 8,
   "metadata": {},
   "outputs": [
    {
     "name": "stdout",
     "output_type": "stream",
     "text": [
      "Requirement already satisfied: konlpy in /Users/skywalker721/Desktop/dacon-ai-project/venv/lib/python3.8/site-packages (0.6.0)\n",
      "Requirement already satisfied: JPype1>=0.7.0 in /Users/skywalker721/Desktop/dacon-ai-project/venv/lib/python3.8/site-packages (from konlpy) (1.4.0)\n",
      "Requirement already satisfied: lxml>=4.1.0 in /Users/skywalker721/Desktop/dacon-ai-project/venv/lib/python3.8/site-packages (from konlpy) (4.9.1)\n",
      "Requirement already satisfied: numpy>=1.6 in /Users/skywalker721/Desktop/dacon-ai-project/venv/lib/python3.8/site-packages (from konlpy) (1.22.4)\n"
     ]
    }
   ],
   "source": [
    "!pip install konlpy"
   ]
  },
  {
   "cell_type": "code",
   "execution_count": 2,
   "metadata": {},
   "outputs": [],
   "source": [
    "import pandas as pd\n",
    "import numpy as np\n",
    "from konlpy.tag import Okt\n",
    "\n",
    "traindata = pd.read_csv(\"/Users/skywalker721/Desktop/dacon-ai-project/blue-castle/train.csv\")\n",
    "testdata = pd.read_csv(\"/Users/skywalker721/Desktop/dacon-ai-project/blue-castle/test.csv\")\n",
    "\n",
    "okt = Okt()"
   ]
  },
  {
   "cell_type": "markdown",
   "metadata": {},
   "source": [
    "csv 파일의 데이터에서 \\\\n 문자열을 제거하는 함수를 아래와 같이 지정한다."
   ]
  },
  {
   "cell_type": "code",
   "execution_count": 3,
   "metadata": {},
   "outputs": [],
   "source": [
    "traindata['data'] = traindata['data'].apply(lambda x : str(x).replace('\\\\n',' '))\n",
    "testdata['data'] = testdata['data'].apply(lambda x : str(x).replace('\\\\n',' '))"
   ]
  },
  {
   "cell_type": "code",
   "execution_count": 5,
   "metadata": {},
   "outputs": [
    {
     "data": {
      "text/plain": [
       "'신혼부부위한 주택정책 보다 보육시설 늘려주세요.. 국민세금으로 일부를 위한 정책펴지 마시고 보편적으로 모든국민이 수긍할  수 있는 복지정책 펴 주시길 바랍니다. 저도 신혼부부이지만 당첨되는 사람 로또되는 이런주택정책 반대합니다. 국민세금을 일부 사람들에게 퍼주기식이 되면 안되죠.. 그 세금으로 우리아이 안전하게 맡길 수 있는 보육시설을 전국에 설치해 주세요.. 대기업들은 솔선수범해서 모든 사업장에 의무설치 할 수 있도록 하시구요.. 집 보다 애 맡길데가 없어 경력단절 되는게 더 괴롭습니다.! 집은 개인의 능력을 키워 사는게 맞습니다. 그 능력을 키울수 있도록 육아 전담에 힘을 기울이는게 맞습니다. 우리아이 부모가 키우는거 맞지만 이제는 국가가 책임지는 시대로 가는게 맞다고 봅니다. 그렇잖아도 부동산 가격 자꾸 올라가는게 정부정책이 잘못 되었다고 봅니다. 부동산은 그냥 내버려 두세요!  좀! 건들수록 역효과네요..'"
      ]
     },
     "execution_count": 5,
     "metadata": {},
     "output_type": "execute_result"
    }
   ],
   "source": [
    "traindata.data[0]"
   ]
  },
  {
   "cell_type": "markdown",
   "metadata": {},
   "source": [
    "조사를 제거하기 위한 함수를 정의한다."
   ]
  },
  {
   "cell_type": "code",
   "execution_count": 7,
   "metadata": {},
   "outputs": [],
   "source": [
    "def eliminatePositions(text):\n",
    "    # 형태소 분석을 시작한다.\n",
    "    okt_pos = okt.pos(str(text), norm=True, stem=True)\n",
    "    # 조사를 제거한 새로운 문자열을 정의한다.\n",
    "    new_word = \"\"\n",
    "    for word, pos in okt_pos:\n",
    "        # 조사가 아니면\n",
    "        if pos != \"Josa\":\n",
    "            # 새로운 문자열에 추가한다.\n",
    "            new_word += word\n",
    "    # 그렇게 추가한 문자열을 return 해서 내보낸다.\n",
    "    return new_word"
   ]
  },
  {
   "cell_type": "code",
   "execution_count": 8,
   "metadata": {},
   "outputs": [],
   "source": [
    "traindata['data'] = traindata['data'].apply(lambda x : eliminatePositions(x))\n",
    "testdata['data'] = testdata['data'].apply(lambda x : eliminatePositions(x))"
   ]
  }
 ],
 "metadata": {
  "interpreter": {
   "hash": "49dd52ca86a95f2da15cd82fd05c12628b337a3c059e4e3f26bfc730ec87008b"
  },
  "kernelspec": {
   "display_name": "Python 3.8.9 64-bit ('venv': venv)",
   "language": "python",
   "name": "python3"
  },
  "language_info": {
   "codemirror_mode": {
    "name": "ipython",
    "version": 3
   },
   "file_extension": ".py",
   "mimetype": "text/x-python",
   "name": "python",
   "nbconvert_exporter": "python",
   "pygments_lexer": "ipython3",
   "version": "3.9.13"
  },
  "orig_nbformat": 4
 },
 "nbformat": 4,
 "nbformat_minor": 2
}

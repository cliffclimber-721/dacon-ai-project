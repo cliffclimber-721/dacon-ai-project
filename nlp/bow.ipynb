{
 "cells": [
  {
   "cell_type": "markdown",
   "metadata": {},
   "source": [
    "머신러닝 모델은 텍스트로 된 변수를 바로 사용할 수 없다.\n",
    "텍스트를 특정 의미가 있는 숫자형 값인 벡터 값으로 변환해야하는데, 이를 피처 벡터화라고 한다."
   ]
  },
  {
   "cell_type": "markdown",
   "metadata": {},
   "source": [
    "BOW(Bag of Words)는 단어들의 문맥이나 순서를 무시하고 단어들에 대한 빈도값을 부여해 변수를 만드는 방법이다.\n",
    "\n",
    "예로 들어서\n",
    "\n",
    "문장 1 : 저는 파이썬을 공부하고 있습니다.\n",
    "문장 2 : 저는 오늘 파이썬 코딩을 하고 있습니다. 그리고 저는 파이썬 문법도 공부하고 있습니다.\n",
    "\n",
    "두 문장이 있다면 나타난 횟수에 대해 숫자로 표시한다."
   ]
  },
  {
   "cell_type": "code",
   "execution_count": 2,
   "metadata": {},
   "outputs": [
    {
     "name": "stdout",
     "output_type": "stream",
     "text": [
      "zsh:1: command not found: pip\n",
      "zsh:1: command not found: pip\n"
     ]
    }
   ],
   "source": [
    "!pip install scikit-learn\n",
    "!pip install sklearn"
   ]
  },
  {
   "cell_type": "code",
   "execution_count": 3,
   "metadata": {},
   "outputs": [
    {
     "ename": "ModuleNotFoundError",
     "evalue": "No module named 'sklearn'",
     "output_type": "error",
     "traceback": [
      "\u001b[0;31m---------------------------------------------------------------------------\u001b[0m",
      "\u001b[0;31mModuleNotFoundError\u001b[0m                       Traceback (most recent call last)",
      "Input \u001b[0;32mIn [3]\u001b[0m, in \u001b[0;36m<module>\u001b[0;34m\u001b[0m\n\u001b[0;32m----> 1\u001b[0m \u001b[38;5;28;01mfrom\u001b[39;00m \u001b[38;5;21;01msklearn\u001b[39;00m\u001b[38;5;21;01m.\u001b[39;00m\u001b[38;5;21;01mfeature_extraction\u001b[39;00m\u001b[38;5;21;01m.\u001b[39;00m\u001b[38;5;21;01mtext\u001b[39;00m \u001b[38;5;28;01mimport\u001b[39;00m CountVectorizer\n\u001b[1;32m      3\u001b[0m corpus \u001b[38;5;241m=\u001b[39m [\n\u001b[1;32m      4\u001b[0m     \u001b[38;5;124m\"\u001b[39m\u001b[38;5;124mThis is the first document.\u001b[39m\u001b[38;5;124m\"\u001b[39m,\n\u001b[1;32m      5\u001b[0m     \u001b[38;5;124m\"\u001b[39m\u001b[38;5;124mThis is the second second document.\u001b[39m\u001b[38;5;124m\"\u001b[39m,\n\u001b[0;32m   (...)\u001b[0m\n\u001b[1;32m      8\u001b[0m     \u001b[38;5;124m\"\u001b[39m\u001b[38;5;124mThe last document?\u001b[39m\u001b[38;5;124m\"\u001b[39m,\n\u001b[1;32m      9\u001b[0m ]\n\u001b[1;32m     11\u001b[0m vectors \u001b[38;5;241m=\u001b[39m CountVectorizer()\n",
      "\u001b[0;31mModuleNotFoundError\u001b[0m: No module named 'sklearn'"
     ]
    }
   ],
   "source": [
    "from sklearn.feature_extraction.text import CountVectorizer\n",
    "\n",
    "corpus = [\n",
    "    \"This is the first document.\",\n",
    "    \"This is the second second document.\",\n",
    "    \"And the third one.\",\n",
    "    \"Is this the first document?\",\n",
    "    \"The last document?\",\n",
    "]\n",
    "\n",
    "vectors = CountVectorizer()\n",
    "\n",
    "# corpus 리스트 내부 텍스트로부터 각 단어의 빈도수를 기록한다.\n",
    "print(vectors.fit_transform(corpus).toarray())\n",
    "#각 단어의 인덱스가 어떻게 부여됐는지 보여준다.\n",
    "print(vectors.vocabulary_)"
   ]
  }
 ],
 "metadata": {
  "interpreter": {
   "hash": "49dd52ca86a95f2da15cd82fd05c12628b337a3c059e4e3f26bfc730ec87008b"
  },
  "kernelspec": {
   "display_name": "Python 3.8.9 64-bit ('venv': venv)",
   "language": "python",
   "name": "python3"
  },
  "language_info": {
   "codemirror_mode": {
    "name": "ipython",
    "version": 3
   },
   "file_extension": ".py",
   "mimetype": "text/x-python",
   "name": "python",
   "nbconvert_exporter": "python",
   "pygments_lexer": "ipython3",
   "version": "3.8.9"
  },
  "orig_nbformat": 4
 },
 "nbformat": 4,
 "nbformat_minor": 2
}

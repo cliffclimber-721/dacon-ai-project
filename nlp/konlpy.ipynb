{
 "cells": [
  {
   "cell_type": "code",
   "execution_count": 8,
   "metadata": {},
   "outputs": [
    {
     "name": "stdout",
     "output_type": "stream",
     "text": [
      "Collecting konlpy\n",
      "  Using cached konlpy-0.6.0-py2.py3-none-any.whl (19.4 MB)\n",
      "Requirement already satisfied: numpy>=1.6 in /Users/skywalker721/Desktop/dacon-ai-project/venv/lib/python3.8/site-packages (from konlpy) (1.22.4)\n",
      "Collecting JPype1>=0.7.0\n",
      "  Using cached JPype1-1.4.0.tar.gz (1.2 MB)\n",
      "  Preparing metadata (setup.py) ... \u001b[?25ldone\n",
      "\u001b[?25hCollecting lxml>=4.1.0\n",
      "  Using cached lxml-4.9.1.tar.gz (3.4 MB)\n",
      "  Preparing metadata (setup.py) ... \u001b[?25ldone\n",
      "\u001b[?25hBuilding wheels for collected packages: JPype1, lxml\n",
      "  Building wheel for JPype1 (setup.py) ... \u001b[?25ldone\n",
      "\u001b[?25h  Created wheel for JPype1: filename=JPype1-1.4.0-cp38-cp38-macosx_10_14_arm64.whl size=589800 sha256=8f87dd102f39133148132d47e0554efd7938369e6006c75227f48c225be9e93e\n",
      "  Stored in directory: /Users/skywalker721/Library/Caches/pip/wheels/9e/e1/26/00a64d833a6c69720288a0b0851e16f87e741ad8fb213f0b3a\n",
      "  Building wheel for lxml (setup.py) ... \u001b[?25ldone\n",
      "\u001b[?25h  Created wheel for lxml: filename=lxml-4.9.1-cp38-cp38-macosx_10_14_arm64.whl size=3015389 sha256=eebfbaa2c19ab00e40034c1df84c48a8af4bd9b076380050b2b674f4de5c4dd2\n",
      "  Stored in directory: /Users/skywalker721/Library/Caches/pip/wheels/03/02/29/e73e6bd0b04b9ddb5e40fe507107c1e6e148bf8521a1964685\n",
      "Successfully built JPype1 lxml\n",
      "Installing collected packages: lxml, JPype1, konlpy\n",
      "Successfully installed JPype1-1.4.0 konlpy-0.6.0 lxml-4.9.1\n"
     ]
    }
   ],
   "source": [
    "!pip install konlpy"
   ]
  },
  {
   "cell_type": "markdown",
   "metadata": {},
   "source": [
    "형태소 분석기를 정의한다."
   ]
  },
  {
   "cell_type": "code",
   "execution_count": 11,
   "metadata": {},
   "outputs": [],
   "source": [
    "from konlpy.tag import Kkma, Komoran, Okt\n",
    "\n",
    "okt = Okt()\n",
    "kkm = Kkma()\n",
    "kom = Komoran()\n",
    "\n",
    "text = \"한글 형태소를 한 번 분석해보려고 합니다.\""
   ]
  },
  {
   "cell_type": "code",
   "execution_count": 17,
   "metadata": {},
   "outputs": [
    {
     "name": "stdout",
     "output_type": "stream",
     "text": [
      "Komoran\n"
     ]
    },
    {
     "data": {
      "text/plain": [
       "[('한글', 'NNP'),\n",
       " ('형태소', 'NNP'),\n",
       " ('를', 'JKO'),\n",
       " ('한', 'MM'),\n",
       " ('번', 'NNB'),\n",
       " ('분석', 'NNG'),\n",
       " ('하', 'XSV'),\n",
       " ('아', 'EC'),\n",
       " ('보', 'VX'),\n",
       " ('려고', 'EC'),\n",
       " ('하', 'VX'),\n",
       " ('ㅂ니다', 'EF'),\n",
       " ('.', 'SF')]"
      ]
     },
     "execution_count": 17,
     "metadata": {},
     "output_type": "execute_result"
    }
   ],
   "source": [
    "print(\"Komoran\")\n",
    "kom.pos(text)"
   ]
  },
  {
   "cell_type": "code",
   "execution_count": 16,
   "metadata": {},
   "outputs": [
    {
     "name": "stdout",
     "output_type": "stream",
     "text": [
      "Kkma\n"
     ]
    },
    {
     "data": {
      "text/plain": [
       "[('한글', 'NNG'),\n",
       " ('형태소', 'NNG'),\n",
       " ('를', 'JKO'),\n",
       " ('한', 'MDN'),\n",
       " ('번', 'NNB'),\n",
       " ('분석', 'NNG'),\n",
       " ('하', 'XSV'),\n",
       " ('어', 'ECS'),\n",
       " ('보', 'VXV'),\n",
       " ('려고', 'ECD'),\n",
       " ('하', 'VV'),\n",
       " ('ㅂ니다', 'EFN'),\n",
       " ('.', 'SF')]"
      ]
     },
     "execution_count": 16,
     "metadata": {},
     "output_type": "execute_result"
    }
   ],
   "source": [
    "print(\"Kkma\")\n",
    "kkm.pos(text)"
   ]
  },
  {
   "cell_type": "code",
   "execution_count": 18,
   "metadata": {},
   "outputs": [
    {
     "name": "stdout",
     "output_type": "stream",
     "text": [
      "okt\n"
     ]
    },
    {
     "data": {
      "text/plain": [
       "[('한글', 'Noun'),\n",
       " ('형태소', 'Noun'),\n",
       " ('를', 'Josa'),\n",
       " ('하다', 'Verb'),\n",
       " ('번', 'Noun'),\n",
       " ('분석', 'Noun'),\n",
       " ('해보다', 'Verb'),\n",
       " ('하다', 'Verb'),\n",
       " ('.', 'Punctuation')]"
      ]
     },
     "execution_count": 18,
     "metadata": {},
     "output_type": "execute_result"
    }
   ],
   "source": [
    "print(\"okt\")\n",
    "okt.pos(text, norm=True, stem=True)"
   ]
  },
  {
   "cell_type": "markdown",
   "metadata": {},
   "source": [
    "kkma와 komoran이 okt보다 더 구체적으로 형태소에 따라 단어를 쪼갤 수 있는 것을 볼 수있다."
   ]
  }
 ],
 "metadata": {
  "interpreter": {
   "hash": "31f2aee4e71d21fbe5cf8b01ff0e069b9275f58929596ceb00d14d90e3e16cd6"
  },
  "kernelspec": {
   "display_name": "Python 3.8.9 64-bit",
   "language": "python",
   "name": "python3"
  },
  "language_info": {
   "codemirror_mode": {
    "name": "ipython",
    "version": 3
   },
   "file_extension": ".py",
   "mimetype": "text/x-python",
   "name": "python",
   "nbconvert_exporter": "python",
   "pygments_lexer": "ipython3",
   "version": "3.8.9"
  },
  "orig_nbformat": 4
 },
 "nbformat": 4,
 "nbformat_minor": 2
}

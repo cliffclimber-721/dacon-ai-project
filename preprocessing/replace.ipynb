{
 "cells": [
  {
   "cell_type": "code",
   "execution_count": 2,
   "metadata": {},
   "outputs": [],
   "source": [
    "string = \"hello python\"\n",
    "string_replace = string.replace(\"hello\", \"hi\")"
   ]
  },
  {
   "cell_type": "code",
   "execution_count": 4,
   "metadata": {},
   "outputs": [
    {
     "name": "stdout",
     "output_type": "stream",
     "text": [
      "hello python\n",
      "hi python\n"
     ]
    }
   ],
   "source": [
    "print(string)\n",
    "print(string_replace)"
   ]
  },
  {
   "cell_type": "code",
   "execution_count": 5,
   "metadata": {},
   "outputs": [
    {
     "name": "stdout",
     "output_type": "stream",
     "text": [
      "123456,789\n",
      "123456789\n"
     ]
    }
   ],
   "source": [
    "number = '123,456,789'\n",
    "print(number.replace(\",\",\"\",1))\n",
    "print(number.replace(\",\",\"\"))"
   ]
  }
 ],
 "metadata": {
  "interpreter": {
   "hash": "49dd52ca86a95f2da15cd82fd05c12628b337a3c059e4e3f26bfc730ec87008b"
  },
  "kernelspec": {
   "display_name": "Python 3.8.9 64-bit ('venv': venv)",
   "language": "python",
   "name": "python3"
  },
  "language_info": {
   "codemirror_mode": {
    "name": "ipython",
    "version": 3
   },
   "file_extension": ".py",
   "mimetype": "text/x-python",
   "name": "python",
   "nbconvert_exporter": "python",
   "pygments_lexer": "ipython3",
   "version": "3.8.9"
  },
  "orig_nbformat": 4
 },
 "nbformat": 4,
 "nbformat_minor": 2
}
